{
 "cells": [
  {
   "cell_type": "code",
   "execution_count": 2,
   "id": "274da596",
   "metadata": {
    "ExecuteTime": {
     "end_time": "2023-05-30T18:04:09.084320Z",
     "start_time": "2023-05-30T18:04:08.324334Z"
    }
   },
   "outputs": [],
   "source": [
    "import numpy as np\n",
    "import pandas as pd\n",
    "from pathlib import Path\n",
    "from sklearn.metrics import roc_auc_score\n",
    "import warnings\n",
    "warnings.filterwarnings('ignore')\n",
    "\n",
    "DATASET_PATH = Path(\n",
    "    r'D:\\2023_05_ozon\\dsworks_23_05_22_data')"
   ]
  },
  {
   "cell_type": "code",
   "execution_count": 3,
   "id": "44fc9e4a",
   "metadata": {
    "ExecuteTime": {
     "end_time": "2023-05-30T18:04:09.205469Z",
     "start_time": "2023-05-30T18:04:09.084320Z"
    }
   },
   "outputs": [],
   "source": [
    "sub_284 = pd.read_csv(DATASET_PATH /\"cb_submit_270_local.csv\")\n",
    "sub_183 = pd.read_csv(DATASET_PATH / \"test7.csv\")\n",
    "sub_164 = pd.read_csv(DATASET_PATH / \"badger_subm_02.csv\")\n",
    "\n",
    "sub_284.sort_values(['variantid1', 'variantid2'],inplace=True, ignore_index=True)\n",
    "sub_183.sort_values(['variantid1', 'variantid2'],inplace=True, ignore_index=True)\n",
    "sub_164.sort_values(['variantid1', 'variantid2'],inplace=True, ignore_index=True)\n",
    "\n",
    "X_1, X_2 = sub_183, sub_164,\n",
    "sub_blend = sub_284[['variantid1', 'variantid2']]\n",
    "sub_blend['target'] = sub_284['target']*0.5 + X_1['target']*0.3 + X_2['target']*0.2\n",
    "sub_blend.to_csv(DATASET_PATH / \"blend_subm.csv\", index=False)"
   ]
  },
  {
   "cell_type": "code",
   "execution_count": null,
   "id": "13d5f5e5",
   "metadata": {},
   "outputs": [],
   "source": []
  }
 ],
 "metadata": {
  "kernelspec": {
   "display_name": "Python 3 (ipykernel)",
   "language": "python",
   "name": "python3"
  },
  "language_info": {
   "codemirror_mode": {
    "name": "ipython",
    "version": 3
   },
   "file_extension": ".py",
   "mimetype": "text/x-python",
   "name": "python",
   "nbconvert_exporter": "python",
   "pygments_lexer": "ipython3",
   "version": "3.10.11"
  },
  "toc": {
   "base_numbering": 1,
   "nav_menu": {},
   "number_sections": true,
   "sideBar": true,
   "skip_h1_title": false,
   "title_cell": "Table of Contents",
   "title_sidebar": "Contents",
   "toc_cell": false,
   "toc_position": {},
   "toc_section_display": true,
   "toc_window_display": false
  }
 },
 "nbformat": 4,
 "nbformat_minor": 5
}
